{
 "cells": [
  {
   "cell_type": "markdown",
   "metadata": {},
   "source": [
    "formatting tips: https://gist.github.com/nikhilnayyar002/7a35e653d3d590e317c829243e73b110\n",
    "or chatgpt idk\n",
    "\n",
    "By: Andrew Yang, Megan Yu, and Frank Deegbe"
   ]
  },
  {
   "cell_type": "markdown",
   "metadata": {},
   "source": [
    "# Part 1:\n",
    "### Data Curation: NFL-Data\n",
    "Data extracted from Fantasy.NFL.com divided by season and player position, along with weekly numbers for the 2021 season.\n",
    "\n",
    "The extract goes back to the 2015 season as that is the first available season with a full dataset for all positions.\n",
    "\n",
    "Point total and player-ranks are specific for the MML leagues point system but all outer data are raw and can be used for other calculations and simulations.\n",
    "\n",
    "All data are available in comma-separated csv files or row-divided JSON."
   ]
  },
  {
   "cell_type": "markdown",
   "metadata": {},
   "source": [
    "During this project, we will be using Python language, and we use tools such as [VS Code](https://code.visualstudio.com/) and [Jupiter Notebook](https://jupyter.org/) to develop this project.\n",
    "\n",
    "Just like any other Python project, we need to import some libraries. Here are some of the libraries we will be using throughout this tutorial.\n",
    "\n",
    "<center><b>Imports</b></center>\n"
   ]
  },
  {
   "cell_type": "code",
   "execution_count": 6,
   "metadata": {},
   "outputs": [],
   "source": [
    "# !pip install numpy pandas seaborn matplotlib folium\n",
    "import os\n",
    "import folium\n",
    "import warnings\n",
    "import datetime\n",
    "import numpy as np\n",
    "import pandas as pd\n",
    "import seaborn as sns\n",
    "import matplotlib.pyplot as plt\n",
    "# this is just an example idk if we gonna need em"
   ]
  }
 ],
 "metadata": {
  "kernelspec": {
   "display_name": "Python 3",
   "language": "python",
   "name": "python3"
  },
  "language_info": {
   "codemirror_mode": {
    "name": "ipython",
    "version": 3
   },
   "file_extension": ".py",
   "mimetype": "text/x-python",
   "name": "python",
   "nbconvert_exporter": "python",
   "pygments_lexer": "ipython3",
   "version": "3.10.12"
  }
 },
 "nbformat": 4,
 "nbformat_minor": 2
}
