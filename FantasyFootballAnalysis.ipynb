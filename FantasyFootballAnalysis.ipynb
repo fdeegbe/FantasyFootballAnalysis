{
 "cells": [
  {
   "cell_type": "markdown",
   "metadata": {},
   "source": [
    "\n",
    "\n",
    "By: Andrew Yang, Megan Yu, and Frank Deegbe"
   ]
  },
  {
   "cell_type": "markdown",
   "metadata": {},
   "source": [
    "# Part 1:\n",
    "### Data Curation: NFL-Data\n",
    "Data extracted from Fantasy.NFL.com divided by season and player position, along with weekly numbers for the 2021 season.\n",
    "\n",
    "The extract goes back to the 2015 season as that is the first available season with a full dataset for all positions.\n",
    "\n",
    "Point total and player-ranks are specific for the MML leagues point system but all outer data are raw and can be used for other calculations and simulations.\n",
    "\n",
    "All data are available in comma-separated csv files or row-divided JSON."
   ]
  },
  {
   "cell_type": "markdown",
   "metadata": {},
   "source": [
    "During this project, we will be using Python language, and we use tools such as [VS Code](https://code.visualstudio.com/) and [Jupiter Notebook](https://jupyter.org/) to develop this project.\n",
    "\n",
    "Just like any other Python project, we need to import some libraries. Here are some of the libraries we will be using throughout this tutorial.\n",
    "\n",
    "**Imports**"
   ]
  },
  {
   "cell_type": "code",
   "execution_count": null,
   "metadata": {},
   "outputs": [],
   "source": [
    "import os\n",
    "import folium\n",
    "import warnings\n",
    "import datetime\n",
    "import numpy as np\n",
    "import pandas as pd\n",
    "import seaborn as sns\n",
    "import matplotlib.pyplot as plt\n",
    "# this is just an example idk if we gonna need em"
   ]
  }
 ],
 "metadata": {
  "language_info": {
   "name": "python"
  }
 },
 "nbformat": 4,
 "nbformat_minor": 2
}
